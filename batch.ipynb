{
 "cells": [
  {
   "cell_type": "code",
   "execution_count": 2,
   "id": "useful-czech",
   "metadata": {},
   "outputs": [],
   "source": [
    "def power(n, x):\n",
    "    p = 1 / n**x\n",
    "    q = -1 ** (n + 1)\n",
    "    if p <= 10 ** -7:\n",
    "       return p * q\n",
    "    else:\n",
    "        return p * q + power(n + 1, x)"
   ]
  },
  {
   "cell_type": "code",
   "execution_count": 3,
   "id": "accepting-outreach",
   "metadata": {},
   "outputs": [
    {
     "data": {
      "text/plain": [
       "-1.0009945702002965"
      ]
     },
     "execution_count": 3,
     "metadata": {},
     "output_type": "execute_result"
    }
   ],
   "source": [
    "power(1, 10)"
   ]
  },
  {
   "cell_type": "code",
   "execution_count": 26,
   "id": "postal-discretion",
   "metadata": {
    "scrolled": true
   },
   "outputs": [
    {
     "data": {
      "text/plain": [
       "-1.0369271646386102"
      ]
     },
     "execution_count": 26,
     "metadata": {},
     "output_type": "execute_result"
    }
   ],
   "source": [
    "# Chen Zhiying's\n",
    "import itertools\n",
    "x = 5\n",
    "eps = 10 ** -7\n",
    "s = 0\n",
    "\n",
    "for n in itertools.count(1):\n",
    "    sx = (lambda n, x: (-1 ** (n + 1)) * (n ** -x))(n, x)\n",
    "    # print(f'f_{n} = {sx}')\n",
    "    if abs(sx) < eps:\n",
    "        break\n",
    "    else:\n",
    "        s += sx\n",
    "s"
   ]
  },
  {
   "cell_type": "markdown",
   "id": "backed-third",
   "metadata": {},
   "source": [
    "Format:\n",
    "- PP-000, PP-001, ... -> 02.语言元素\n",
    "- PP-100, ... -> 03\n",
    "\n",
    "```\n",
    "ProblemSet.zip\n",
    "|-1\n",
    "    |–problem.json\n",
    "    |–testcase\n",
    "        |—1.in\n",
    "        |—1.out\n",
    "        |…\n",
    "|-2\n",
    "    |–problem.json\n",
    "    |–testcase\n",
    "        |—1.in\n",
    "        |—1.out\n",
    "        |…\n",
    "|…\n",
    "```\n",
    "\n",
    "https://hub.fastgit.org/jackfrued/Python-100-Days/tree/master/Day01-15"
   ]
  },
  {
   "cell_type": "code",
   "execution_count": null,
   "id": "threatened-italian",
   "metadata": {},
   "outputs": [],
   "source": [
    "\"samples\": [\n",
    "    {\n",
    "        \"input\": \"2 3\",\n",
    "        \"output\": \"2+3=5\\n2-3=-1\\n2*3=6\\n2/3=0.67\"\n",
    "    }\n",
    "],\n",
    "    \n",
    "\"samples\": [\n",
    "        {\n",
    "            \"input\": \"12 20.1 20.1\",\n",
    "            \"output\": \"1\"\n",
    "        },\n",
    "        {\n",
    "            \"input\": \"1.1 2 5.7\",\n",
    "            \"output\": \"0\"\n",
    "        },\n",
    "        {\n",
    "            \"input\": \"3 3 3\",\n",
    "            \"output\": \"2\"\n",
    "        }\n",
    "    ],"
   ]
  },
  {
   "cell_type": "code",
   "execution_count": null,
   "id": "ideal-italian",
   "metadata": {},
   "outputs": [],
   "source": []
  }
 ],
 "metadata": {
  "kernelspec": {
   "display_name": "Python 3",
   "language": "python",
   "name": "python3"
  },
  "language_info": {
   "codemirror_mode": {
    "name": "ipython",
    "version": 3
   },
   "file_extension": ".py",
   "mimetype": "text/x-python",
   "name": "python",
   "nbconvert_exporter": "python",
   "pygments_lexer": "ipython3",
   "version": "3.8.5"
  }
 },
 "nbformat": 4,
 "nbformat_minor": 5
}
