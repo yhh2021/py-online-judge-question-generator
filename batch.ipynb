{
 "cells": [
  {
   "cell_type": "markdown",
   "id": "backed-third",
   "metadata": {},
   "source": [
    "Format:\n",
    "- PP-000, PP-001, ... -> 02.语言元素\n",
    "- PP-100, ... -> 03\n",
    "\n",
    "```\n",
    "ProblemSet.zip\n",
    "|-1\n",
    "    |–problem.json\n",
    "    |–testcase\n",
    "    |—1.in\n",
    "    |—1.out\n",
    "    |…\n",
    "|-2\n",
    "    |–problem.json\n",
    "    |–testcase\n",
    "    |—1.in\n",
    "    |—1.out\n",
    "    |…\n",
    "|…\n",
    "```"
   ]
  },
  {
   "cell_type": "code",
   "execution_count": 20,
   "id": "canadian-villa",
   "metadata": {},
   "outputs": [],
   "source": [
    "import os, abbrs, random"
   ]
  },
  {
   "cell_type": "code",
   "execution_count": 84,
   "id": "severe-story",
   "metadata": {},
   "outputs": [
    {
     "name": "stdout",
     "output_type": "stream",
     "text": [
      "/home/asuka/Desktop/py-online-judge/uploads\n"
     ]
    }
   ],
   "source": [
    "%cd uploads"
   ]
  },
  {
   "cell_type": "code",
   "execution_count": 4,
   "id": "opened-equality",
   "metadata": {},
   "outputs": [],
   "source": [
    "TESTCASE_CNT = 5"
   ]
  },
  {
   "cell_type": "markdown",
   "id": "atmospheric-rebel",
   "metadata": {},
   "source": [
    "# Utilities"
   ]
  },
  {
   "cell_type": "code",
   "execution_count": 38,
   "id": "senior-mapping",
   "metadata": {},
   "outputs": [],
   "source": [
    "def get_random_int(n=0):\n",
    "    if n == 0:\n",
    "        return random.randrange(9999999)\n",
    "    else:\n",
    "        return ' '.join([ str(get_random_int()) for _ in range(n) ])\n",
    "\n",
    "def current_py_file():\n",
    "    return f'{current_no}.py'\n",
    "\n",
    "def current_code():\n",
    "    return abbrs.read_file(current_py_file())"
   ]
  },
  {
   "cell_type": "code",
   "execution_count": 22,
   "id": "focused-price",
   "metadata": {},
   "outputs": [],
   "source": [
    "def write_file(filename, s):\n",
    "    print(f'Writing to {filename}.')\n",
    "    abbrs.write_file(filename, s)"
   ]
  },
  {
   "cell_type": "code",
   "execution_count": 23,
   "id": "touched-mandate",
   "metadata": {},
   "outputs": [],
   "source": [
    "def write_code(code=None):\n",
    "    if code == None:\n",
    "        code = S\n",
    "    code = '#!coding: utf-8\\n' + code\n",
    "    write_file(current_py_file(), code)"
   ]
  },
  {
   "cell_type": "markdown",
   "id": "treated-crest",
   "metadata": {},
   "source": [
    "# Testcase stuff"
   ]
  },
  {
   "cell_type": "code",
   "execution_count": 47,
   "id": "northern-border",
   "metadata": {},
   "outputs": [],
   "source": [
    "def init_testcase():\n",
    "    write_code()\n",
    "    !mkdir -p {current_no}\n",
    "\n",
    "def build_empty_input_case(): # NOT TESTED\n",
    "    init_case()\n",
    "    generate_empty_testcase()\n",
    "    \n",
    "def build_next_empty_input_case(): # NOT TESTED\n",
    "    next_case()\n",
    "    build_empty_input_case()"
   ]
  },
  {
   "cell_type": "code",
   "execution_count": 79,
   "id": "digital-roots",
   "metadata": {},
   "outputs": [],
   "source": [
    "def generate_empty_testcase():\n",
    "    make_testcase()\n",
    "    \n",
    "def get_testcase_no():\n",
    "    file_count = len(os.listdir(current_no))\n",
    "    assert file_count % 2 == 0\n",
    "    \n",
    "    return int(file_count / 2 + 1)\n",
    "\n",
    "def purge_testcase():\n",
    "    !rm {current_no}/*\n",
    "\n",
    "def make_testcase(in_str=''):\n",
    "    testcase_no = get_testcase_no()\n",
    "    in_path = f'{current_no}/{testcase_no}.in'\n",
    "    out_path = f'{current_no}/{testcase_no}.out'\n",
    "    \n",
    "    # Write .in\n",
    "    write_file(in_path, in_str)\n",
    "    \n",
    "    # Run and generate .out\n",
    "    !python3 {current_py_file()} < {in_path} > {out_path}\n",
    "    # !ls {current_no}\n",
    "    # !more {current_no}/out*.txt | cat\n",
    "    \n",
    "def pack_testcase():\n",
    "    !rm -f {current_no}.zip\n",
    "    !cd {current_no}; zip ../{current_no}.zip *"
   ]
  },
  {
   "cell_type": "code",
   "execution_count": 51,
   "id": "available-quality",
   "metadata": {},
   "outputs": [],
   "source": [
    "S = '''\n",
    "a1, a2, a3, a4, a5, a6, a7, a8 = map(int, input().split())\n",
    "print(a1 == a2, a3 > a4, a5 < a6, not (a7 != a8))'''"
   ]
  },
  {
   "cell_type": "code",
   "execution_count": 49,
   "id": "foreign-spokesman",
   "metadata": {},
   "outputs": [],
   "source": [
    "def make_one_testcase():\n",
    "    make_testcase(get_random_int(8))"
   ]
  },
  {
   "cell_type": "code",
   "execution_count": 80,
   "id": "interstate-magic",
   "metadata": {
    "scrolled": true
   },
   "outputs": [
    {
     "name": "stdout",
     "output_type": "stream",
     "text": [
      "Writing to 002/1.in.\n",
      "Writing to 002/2.in.\n",
      "Writing to 002/3.in.\n",
      "Writing to 002/4.in.\n",
      "Writing to 002/5.in.\n"
     ]
    }
   ],
   "source": [
    "purge_testcase()\n",
    "for _ in range(TESTCASE_CNT):\n",
    "    make_one_testcase()"
   ]
  },
  {
   "cell_type": "markdown",
   "id": "dirty-content",
   "metadata": {},
   "source": [
    "# Get script information"
   ]
  },
  {
   "cell_type": "code",
   "execution_count": 29,
   "id": "complex-venue",
   "metadata": {},
   "outputs": [],
   "source": [
    "import abbrs\n",
    "\n",
    "def get_script_information(filename: str) -> None:\n",
    "    lines = abbrs.read_file(filename).split('\\n')\n",
    "    \n",
    "    assert lines[0][:2] == '# '\n",
    "    title = lines[0][2:]\n",
    "    \n",
    "    assert lines[1] == \"'''\"\n",
    "    description = [ ]\n",
    "    in_count = -1\n",
    "    \n",
    "    for i in lines[2:]:\n",
    "        if i == \"'''\":\n",
    "            break\n",
    "        else:\n",
    "            description.append(i)\n",
    "            \n",
    "            if in_count == -1:\n",
    "                x = parse_digit(i)\n",
    "                if x != -1:\n",
    "                    in_count = x\n",
    "    else:\n",
    "        assert False\n",
    "        \n",
    "    return title, description, in_count\n",
    "\n",
    "def parse_digit(x: str) -> int:\n",
    "    x = [ i if i.isdigit() else ' ' for i in x ]\n",
    "    return int(''.join(x).split()[0])"
   ]
  },
  {
   "cell_type": "markdown",
   "id": "satellite-latex",
   "metadata": {},
   "source": [
    "# Generate problem JSON"
   ]
  },
  {
   "cell_type": "code",
   "execution_count": null,
   "id": "threatened-italian",
   "metadata": {},
   "outputs": [],
   "source": [
    "\"test_case_score\": [\n",
    "        {\n",
    "            \"score\": 这道题的分数如10,\n",
    "            \"input_name\": \"1.in\",\n",
    "            \"output_name\": \"1.out\"\n",
    "        },\n",
    "        {\n",
    "            \"score\": 这道题的分数,\n",
    "            \"input_name\": \"2.in\",\n",
    "            \"output_name\": \"2.out\"\n",
    "        }\n",
    "    ],\n",
    "\"samples\": [\n",
    "    {\n",
    "        \"input\": \"2 3\",\n",
    "        \"output\": \"2+3=5\\n2-3=-1\\n2*3=6\\n2/3=0.67\"\n",
    "    }\n",
    "],\n",
    "    \n",
    "\"samples\": [\n",
    "        {\n",
    "            \"input\": \"12 20.1 20.1\",\n",
    "            \"output\": \"1\"\n",
    "        },\n",
    "        {\n",
    "            \"input\": \"1.1 2 5.7\",\n",
    "            \"output\": \"0\"\n",
    "        },\n",
    "        {\n",
    "            \"input\": \"3 3 3\",\n",
    "            \"output\": \"2\"\n",
    "        }\n",
    "    ],"
   ]
  },
  {
   "cell_type": "code",
   "execution_count": 79,
   "id": "crucial-mozambique",
   "metadata": {},
   "outputs": [
    {
     "name": "stdout",
     "output_type": "stream",
     "text": [
      "{\n",
      "    \"display_id\": \"PP-002\",\n",
      "    \"title\": \"\\u6bd4\\u8f83\\u8fd0\\u7b97\\u7b26\\u548c\\u903b\\u8f91\\u8fd0\\u7b97\\u7b26\\u7684\\u4f7f\\u7528\",\n",
      "    \"description\": {\n",
      "        \"format\": \"html\",\n",
      "        \"value\": \"<pre>输入8个整数a1 .. a8，分别输出以下逻辑表达式的值：\n",
      "a1 == a2\n",
      "a3 > a4\n",
      "a5 < a6\n",
      "not (a7 != a8)</pre>\"\n",
      "    },\n",
      "    \"tags\": [ \"PP\" ],\n",
      "    \"input_description\": {\n",
      "        \"format\": \"html\",\n",
      "        \"value\": \"<p>\\u8be6\\u89c1\\u6837\\u4f8b</p>\"\n",
      "    },\n",
      "    \"output_description\": {\n",
      "        \"format\": \"html\",\n",
      "        \"value\": \"<p>\\u8be6\\u89c1\\u6837\\u4f8b</p>\"\n",
      "    },\n",
      "    \"hint\": { \"format\": \"html\", \"value\": \"\" },\n",
      "    \"time_limit\": 1000,\n",
      "    \"memory_limit\": 256,\n",
      "    \"template\": {},\n",
      "    \"spj\": null,\n",
      "    \"rule_type\": \"ACM\",\n",
      "    \"source\": \"Python\\u5237\\u9898\\u7cfb\\u7edf http://222.201.101.8\",\n",
      "    \"answers\": []\n",
      "}\n"
     ]
    }
   ],
   "source": [
    "def str2unicode(s: str) -> str:\n",
    "    s = ascii(s)\n",
    "    s = list(s)\n",
    "    s.pop()\n",
    "    s.pop(0)\n",
    "    \n",
    "    return ''.join(s)\n",
    "\n",
    "S1 = str2unicode('详见样例')\n",
    "\n",
    "print('''{\n",
    "    \"display_id\": \"%s\",\n",
    "    \"title\": \"%s\",\n",
    "    \"description\": {\n",
    "        \"format\": \"html\",\n",
    "        \"value\": \"<pre>%s</pre>\"\n",
    "    },\n",
    "    \"tags\": [ \"PP\" ],\n",
    "    \"input_description\": {\n",
    "        \"format\": \"html\",\n",
    "        \"value\": \"<p>%s</p>\"\n",
    "    },\n",
    "    \"output_description\": {\n",
    "        \"format\": \"html\",\n",
    "        \"value\": \"<p>%s</p>\"\n",
    "    },\n",
    "    \"hint\": { \"format\": \"html\", \"value\": \"\" },\n",
    "    \"time_limit\": 1000,\n",
    "    \"memory_limit\": 256,\n",
    "    \"template\": {},\n",
    "    \"spj\": null,\n",
    "    \"rule_type\": \"ACM\",\n",
    "    \"source\": \"Python%s http://222.201.101.8\",\n",
    "    \"answers\": []\n",
    "}''' % ('PP-' + filename.split('.')[0], str2unicode(title),\n",
    "        '\\n'.join(description),\n",
    "        S1, S1, str2unicode('刷题系统')))"
   ]
  },
  {
   "cell_type": "code",
   "execution_count": null,
   "id": "authorized-class",
   "metadata": {},
   "outputs": [],
   "source": []
  }
 ],
 "metadata": {
  "kernelspec": {
   "display_name": "Python 3",
   "language": "python",
   "name": "python3"
  },
  "language_info": {
   "codemirror_mode": {
    "name": "ipython",
    "version": 3
   },
   "file_extension": ".py",
   "mimetype": "text/x-python",
   "name": "python",
   "nbconvert_exporter": "python",
   "pygments_lexer": "ipython3",
   "version": "3.8.5"
  }
 },
 "nbformat": 4,
 "nbformat_minor": 5
}
