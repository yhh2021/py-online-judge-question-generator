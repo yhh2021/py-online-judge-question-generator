{
 "cells": [
  {
   "cell_type": "code",
   "execution_count": 2,
   "id": "useful-czech",
   "metadata": {},
   "outputs": [],
   "source": [
    "def power(n, x):\n",
    "    p = 1 / n**x\n",
    "    q = -1 ** (n + 1)\n",
    "    if p <= 10 ** -7:\n",
    "       return p * q\n",
    "    else:\n",
    "        return p * q + power(n + 1, x)"
   ]
  },
  {
   "cell_type": "code",
   "execution_count": 3,
   "id": "accepting-outreach",
   "metadata": {},
   "outputs": [
    {
     "data": {
      "text/plain": [
       "-1.0009945702002965"
      ]
     },
     "execution_count": 3,
     "metadata": {},
     "output_type": "execute_result"
    }
   ],
   "source": [
    "power(1, 10)"
   ]
  },
  {
   "cell_type": "code",
   "execution_count": 26,
   "id": "postal-discretion",
   "metadata": {
    "scrolled": true
   },
   "outputs": [
    {
     "data": {
      "text/plain": [
       "-1.0369271646386102"
      ]
     },
     "execution_count": 26,
     "metadata": {},
     "output_type": "execute_result"
    }
   ],
   "source": [
    "# Chen Zhiying's\n",
    "import itertools\n",
    "x = 5\n",
    "eps = 10 ** -7\n",
    "s = 0\n",
    "\n",
    "for n in itertools.count(1):\n",
    "    sx = (lambda n, x: (-1 ** (n + 1)) * (n ** -x))(n, x)\n",
    "    # print(f'f_{n} = {sx}')\n",
    "    if abs(sx) < eps:\n",
    "        break\n",
    "    else:\n",
    "        s += sx\n",
    "s"
   ]
  },
  {
   "cell_type": "code",
   "execution_count": null,
   "id": "ideal-italian",
   "metadata": {},
   "outputs": [],
   "source": []
  }
 ],
 "metadata": {
  "kernelspec": {
   "display_name": "Python 3",
   "language": "python",
   "name": "python3"
  },
  "language_info": {
   "codemirror_mode": {
    "name": "ipython",
    "version": 3
   },
   "file_extension": ".py",
   "mimetype": "text/x-python",
   "name": "python",
   "nbconvert_exporter": "python",
   "pygments_lexer": "ipython3",
   "version": "3.8.5"
  }
 },
 "nbformat": 4,
 "nbformat_minor": 5
}
