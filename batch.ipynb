{
 "cells": [
  {
   "cell_type": "code",
   "execution_count": 2,
   "id": "useful-czech",
   "metadata": {},
   "outputs": [],
   "source": [
    "def power(n, x):\n",
    "    p = 1 / n**x\n",
    "    q = -1 ** (n + 1)\n",
    "    if p <= 10 ** -7:\n",
    "       return p * q\n",
    "    else:\n",
    "        return p * q + power(n + 1, x)"
   ]
  },
  {
   "cell_type": "code",
   "execution_count": 3,
   "id": "accepting-outreach",
   "metadata": {},
   "outputs": [
    {
     "data": {
      "text/plain": [
       "-1.0009945702002965"
      ]
     },
     "execution_count": 3,
     "metadata": {},
     "output_type": "execute_result"
    }
   ],
   "source": [
    "power(1, 10)"
   ]
  },
  {
   "cell_type": "code",
   "execution_count": 26,
   "id": "postal-discretion",
   "metadata": {
    "scrolled": true
   },
   "outputs": [
    {
     "data": {
      "text/plain": [
       "-1.0369271646386102"
      ]
     },
     "execution_count": 26,
     "metadata": {},
     "output_type": "execute_result"
    }
   ],
   "source": [
    "# Chen Zhiying's\n",
    "import itertools\n",
    "x = 5\n",
    "eps = 10 ** -7\n",
    "s = 0\n",
    "\n",
    "for n in itertools.count(1):\n",
    "    sx = (lambda n, x: (-1 ** (n + 1)) * (n ** -x))(n, x)\n",
    "    # print(f'f_{n} = {sx}')\n",
    "    if abs(sx) < eps:\n",
    "        break\n",
    "    else:\n",
    "        s += sx\n",
    "s"
   ]
  },
  {
   "cell_type": "markdown",
   "id": "backed-third",
   "metadata": {},
   "source": [
    "Format:\n",
    "- PP-000, PP-001, ... -> 02.语言元素\n",
    "- PP-100, ... -> 03\n",
    "\n",
    "```\n",
    "ProblemSet.zip\n",
    "|-1\n",
    "    |–problem.json\n",
    "    |–testcase\n",
    "        |—1.in\n",
    "        |—1.out\n",
    "        |…\n",
    "|-2\n",
    "    |–problem.json\n",
    "    |–testcase\n",
    "        |—1.in\n",
    "        |—1.out\n",
    "        |…\n",
    "|…\n",
    "```\n",
    "\n",
    "https://hub.fastgit.org/jackfrued/Python-100-Days/tree/master/Day01-15"
   ]
  },
  {
   "cell_type": "markdown",
   "id": "atmospheric-rebel",
   "metadata": {},
   "source": [
    "# Utilities"
   ]
  },
  {
   "cell_type": "code",
   "execution_count": 20,
   "id": "canadian-villa",
   "metadata": {},
   "outputs": [],
   "source": [
    "import os, abbrs"
   ]
  },
  {
   "cell_type": "code",
   "execution_count": 84,
   "id": "severe-story",
   "metadata": {},
   "outputs": [
    {
     "name": "stdout",
     "output_type": "stream",
     "text": [
      "/home/asuka/Desktop/py-online-judge/uploads\n"
     ]
    }
   ],
   "source": [
    "%cd uploads"
   ]
  },
  {
   "cell_type": "code",
   "execution_count": 22,
   "id": "focused-price",
   "metadata": {},
   "outputs": [],
   "source": [
    "def write_file(filename, s):\n",
    "    print(f'Writing to {filename}.')\n",
    "    abbrs.write_file(filename, s)\n",
    "\n",
    "def current_py_file():\n",
    "    return f'{current_no}.py'\n",
    "\n",
    "def current_code():\n",
    "    return abbrs.read_file(current_py_file())"
   ]
  },
  {
   "cell_type": "code",
   "execution_count": 23,
   "id": "touched-mandate",
   "metadata": {},
   "outputs": [],
   "source": [
    "def write_code(code=None):\n",
    "    if code == None:\n",
    "        code = S\n",
    "    code = '#!coding: utf-8\\n' + code\n",
    "    write_file(current_py_file(), code)"
   ]
  },
  {
   "cell_type": "markdown",
   "id": "treated-crest",
   "metadata": {},
   "source": [
    "# Testcase stuff"
   ]
  },
  {
   "cell_type": "code",
   "execution_count": 47,
   "id": "northern-border",
   "metadata": {},
   "outputs": [],
   "source": [
    "def init_testcase():\n",
    "    write_code()\n",
    "    !mkdir -p {current_no}\n",
    "\n",
    "def build_empty_input_case(): # NOT TESTED\n",
    "    init_case()\n",
    "    generate_empty_testcase()\n",
    "    \n",
    "def build_next_empty_input_case(): # NOT TESTED\n",
    "    next_case()\n",
    "    build_empty_input_case()"
   ]
  },
  {
   "cell_type": "code",
   "execution_count": 79,
   "id": "digital-roots",
   "metadata": {},
   "outputs": [],
   "source": [
    "def generate_empty_testcase():\n",
    "    make_testcase()\n",
    "    \n",
    "def get_testcase_no():\n",
    "    file_count = len(os.listdir(current_no))\n",
    "    assert file_count % 2 == 0\n",
    "    \n",
    "    return int(file_count / 2 + 1)\n",
    "\n",
    "def purge_testcase():\n",
    "    !rm {current_no}/*\n",
    "\n",
    "def make_testcase(in_str=''):\n",
    "    testcase_no = get_testcase_no()\n",
    "    in_path = f'{current_no}/{testcase_no}.in'\n",
    "    out_path = f'{current_no}/{testcase_no}.out'\n",
    "    \n",
    "    # Write .in\n",
    "    write_file(in_path, in_str)\n",
    "    \n",
    "    # Run and generate .out\n",
    "    !python3 {current_py_file()} < {in_path} > {out_path}\n",
    "    # !ls {current_no}\n",
    "    # !more {current_no}/out*.txt | cat\n",
    "    \n",
    "def pack_testcase():\n",
    "    !rm -f {current_no}.zip\n",
    "    !cd {current_no}; zip ../{current_no}.zip *"
   ]
  },
  {
   "cell_type": "code",
   "execution_count": 51,
   "id": "available-quality",
   "metadata": {},
   "outputs": [],
   "source": [
    "S = '''\n",
    "a1, a2, a3, a4, a5, a6, a7, a8 = map(int, input().split())\n",
    "print(a1 == a2, a3 > a4, a5 < a6, not (a7 != a8))'''"
   ]
  },
  {
   "cell_type": "code",
   "execution_count": 49,
   "id": "foreign-spokesman",
   "metadata": {},
   "outputs": [],
   "source": [
    "def make_one_testcase():\n",
    "    make_testcase(get_random_int(8))"
   ]
  },
  {
   "cell_type": "code",
   "execution_count": 80,
   "id": "interstate-magic",
   "metadata": {
    "scrolled": true
   },
   "outputs": [
    {
     "name": "stdout",
     "output_type": "stream",
     "text": [
      "Writing to 002/1.in.\n",
      "Writing to 002/2.in.\n",
      "Writing to 002/3.in.\n",
      "Writing to 002/4.in.\n",
      "Writing to 002/5.in.\n"
     ]
    }
   ],
   "source": [
    "purge_testcase()\n",
    "for _ in range(TESTCASE_CNT):\n",
    "    make_one_testcase()"
   ]
  },
  {
   "cell_type": "markdown",
   "id": "compact-stopping",
   "metadata": {},
   "source": [
    "# Generate problem JSON"
   ]
  },
  {
   "cell_type": "markdown",
   "id": "exceptional-knowing",
   "metadata": {},
   "source": [
    "```\n",
    "ProblemSet.zip\n",
    "|-1\n",
    "    |–problem.json\n",
    "    |–testcase\n",
    "        |—1.in\n",
    "        |—1.out\n",
    "        |…\n",
    "|-2\n",
    "    |–problem.json\n",
    "    |–testcase\n",
    "        |—1.in\n",
    "        |—1.out\n",
    "        |…\n",
    "|…\n",
    "```"
   ]
  },
  {
   "cell_type": "code",
   "execution_count": null,
   "id": "threatened-italian",
   "metadata": {},
   "outputs": [],
   "source": [
    "\"samples\": [\n",
    "    {\n",
    "        \"input\": \"2 3\",\n",
    "        \"output\": \"2+3=5\\n2-3=-1\\n2*3=6\\n2/3=0.67\"\n",
    "    }\n",
    "],\n",
    "    \n",
    "\"samples\": [\n",
    "        {\n",
    "            \"input\": \"12 20.1 20.1\",\n",
    "            \"output\": \"1\"\n",
    "        },\n",
    "        {\n",
    "            \"input\": \"1.1 2 5.7\",\n",
    "            \"output\": \"0\"\n",
    "        },\n",
    "        {\n",
    "            \"input\": \"3 3 3\",\n",
    "            \"output\": \"2\"\n",
    "        }\n",
    "    ],"
   ]
  },
  {
   "cell_type": "code",
   "execution_count": null,
   "id": "ideal-italian",
   "metadata": {},
   "outputs": [],
   "source": []
  }
 ],
 "metadata": {
  "kernelspec": {
   "display_name": "Python 3",
   "language": "python",
   "name": "python3"
  },
  "language_info": {
   "codemirror_mode": {
    "name": "ipython",
    "version": 3
   },
   "file_extension": ".py",
   "mimetype": "text/x-python",
   "name": "python",
   "nbconvert_exporter": "python",
   "pygments_lexer": "ipython3",
   "version": "3.8.5"
  }
 },
 "nbformat": 4,
 "nbformat_minor": 5
}
